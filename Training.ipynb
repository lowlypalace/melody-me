{
 "cells": [
  {
   "cell_type": "code",
   "execution_count": null,
   "metadata": {},
   "outputs": [],
   "source": [
    "# Create NoteSequences\n",
    "# Our first step will be to convert a collection of MIDI files into NoteSequences. \n",
    "# NoteSequences are protocol buffers, which is a fast and efficient data format, and easier to work with than MIDI files.\n",
    "\n",
    "python magenta/scripts/convert_dir_to_note_sequences.py --input_dir='MIDIs' --output_file='tmp/notesequences.tfrecord'  --recursive"
   ]
  },
  {
   "cell_type": "code",
   "execution_count": null,
   "metadata": {},
   "outputs": [],
   "source": [
    "# SequenceExamples are fed into the model during training and evaluation. \n",
    "# Each SequenceExample will contain a sequence of inputs and a sequence of labels that represent a melody. \n",
    "# The command below extracts melodies from our NoteSequences and saves them as SequenceExamples. \n",
    "\n",
    "python magenta/models/melody_rnn/melody_rnn_create_dataset.py --config='basic_rnn' --input='tmp/notesequences.tfrecord' --output_dir='tmp/melody_rnn/sequence_examples' --eval_ratio=0.10"
   ]
  },
  {
   "cell_type": "code",
   "execution_count": null,
   "metadata": {},
   "outputs": [],
   "source": [
    "# Train model with hyper parameters\n",
    "\n",
    "python magenta/models/melody_rnn/melody_rnn_train.py --config='basic_rnn' --run_dir='tmp/melody_rnn/logdir/run1' --sequence_example_file='tmp/melody_rnn/sequence_examples/training_melodies.tfrecord' --hparams='batch_size=64,rnn_layer_sizes=[64,64]' --num_training_steps=10000"
   ]
  },
  {
   "cell_type": "code",
   "execution_count": null,
   "metadata": {},
   "outputs": [],
   "source": [
    "# Train model with no hyper parameters\n",
    "\n",
    "python magenta/models/melody_rnn/melody_rnn_train.py --config='basic_rnn' --run_dir='tmp/melody_rnn/logdir/run1' --sequence_example_file='tmp/melody_rnn/sequence_examples/training_melodies.tfrecord'"
   ]
  },
  {
   "cell_type": "code",
   "execution_count": null,
   "metadata": {},
   "outputs": [],
   "source": [
    "# Generate a bundle file of the model with hyper parameters\n",
    "\n",
    "python magenta/models/melody_rnn/melody_rnn_generate.py --config='basic_rnn' --run_dir='tmp/melody_rnn/logdir/run1' --hparams='batch_size=64,rnn_layer_sizes=[64,64]' --bundle_file='tmp/basic_rnn.mag' --save_generator_bundle"
   ]
  },
  {
   "cell_type": "code",
   "execution_count": null,
   "metadata": {},
   "outputs": [],
   "source": [
    "# Generate a bundle file of the model with no hyper parameters\n",
    "\n",
    "python magenta/models/melody_rnn/melody_rnn_generate.py --config='basic_rnn' --run_dir='tmp/melody_rnn/logdir/run1' --bundle_file='tmp/basic_rnn.mag' --save_generator_bundle"
   ]
  },
  {
   "cell_type": "code",
   "execution_count": null,
   "metadata": {},
   "outputs": [],
   "source": [
    "# The command below runs TensorBoard to view the training and evaluation data.\n",
    "\n",
    "tensorboard --logdir='tmp/melody_rnn/logdir'"
   ]
  }
 ],
 "metadata": {
  "kernelspec": {
   "display_name": "Python 3",
   "language": "python",
   "name": "python3"
  },
  "language_info": {
   "codemirror_mode": {
    "name": "ipython",
    "version": 3
   },
   "file_extension": ".py",
   "mimetype": "text/x-python",
   "name": "python",
   "nbconvert_exporter": "python",
   "pygments_lexer": "ipython3",
   "version": "3.7.6"
  }
 },
 "nbformat": 4,
 "nbformat_minor": 4
}
